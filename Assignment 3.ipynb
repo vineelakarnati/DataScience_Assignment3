{
 "cells": [
  {
   "cell_type": "markdown",
   "metadata": {},
   "source": [
    "# Task 1"
   ]
  },
  {
   "cell_type": "code",
   "execution_count": 1,
   "metadata": {},
   "outputs": [],
   "source": [
    "#1.function to compute 5/0 and use try except to catch it\n",
    "def fun():\n",
    "    try:\n",
    "        print(5/0)\n",
    "    except ZeroDivisionError:\n",
    "        print(\"exception catched\")\n",
    "fun()\n",
    "        "
   ]
  },
  {
   "cell_type": "code",
   "execution_count": 2,
   "metadata": {},
   "outputs": [
    {
     "name": "stdout",
     "output_type": "stream",
     "text": [
      "Americans play Baseball\n",
      "Americans play cricket\n",
      "Americans watch Baseball\n",
      "Americans watch cricket\n",
      "Indians play Baseball\n",
      "Indians play cricket\n",
      "Indians watch Baseball\n",
      "Indians watch cricket\n"
     ]
    }
   ],
   "source": [
    "#2.\n",
    "subjects=[\"Americans\",\"Indians\"]\n",
    "verbs=[\"play\",\"watch\"]\n",
    "objects=[\"Baseball\",\"cricket\"]\n",
    "print( *[i+' '+j+' '+k for i in subjects for j in verbs for k in objects],sep='\\n')\n"
   ]
  },
  {
   "cell_type": "markdown",
   "metadata": {},
   "source": [
    "# Task 2"
   ]
  },
  {
   "cell_type": "code",
   "execution_count": 3,
   "metadata": {},
   "outputs": [
    {
     "name": "stdout",
     "output_type": "stream",
     "text": [
      "Enter array of elements\n",
      "1 2 3 4 5 6\n",
      "Enter n 4\n",
      "Enter true/false false\n",
      "false\n",
      "Vandermonde Matrix is : \n",
      "[[  1   1   1   1]\n",
      " [  8   4   2   1]\n",
      " [ 27   9   3   1]\n",
      " [ 64  16   4   1]\n",
      " [125  25   5   1]\n",
      " [216  36   6   1]]\n"
     ]
    }
   ],
   "source": [
    "#Alexandre Theophile Vandermode Matrix\n",
    "#first column is x^(n-1) second is x^(n-2)... if increasing is false n viceversa\n",
    "import numpy as np\n",
    "\n",
    "def vandermonde_matrix(mtrx,n,b):\n",
    "   if b==\"false\":\n",
    "       mtrx=np.array(mtrx)\n",
    "       for i in range(n):\n",
    "           mtrx[:,i] **= n-i-1\n",
    "   elif b==\"true\":\n",
    "       print(\"Entered True\")\n",
    "       mtrx=np.array(mtrx)\n",
    "       for i in range(n):\n",
    "           mtrx[:,i] **= n-i-1\n",
    "       mtrx[:,[0,n-1]] = mtrx[:,[n-1,0]]\n",
    "   return mtrx.astype(int)\n",
    "\n",
    "print(\"Enter array of elements\")\n",
    "arr=list(map(int,input().split()))\n",
    "n=int(input(\"Enter n \"))\n",
    "b = input(\"Enter true/false \")\n",
    "print(b)\n",
    "np_arr = np.array(arr)\n",
    "z = np.zeros((n,len(arr)))\n",
    "arr = z+arr #broadcasting\n",
    "mat = vandermonde_matrix(arr.T,n,b)\n",
    "print(\"Vandermonde Matrix is : \\n%s\" %mat)"
   ]
  },
  {
   "cell_type": "code",
   "execution_count": null,
   "metadata": {},
   "outputs": [],
   "source": []
  },
  {
   "cell_type": "code",
   "execution_count": null,
   "metadata": {},
   "outputs": [],
   "source": []
  },
  {
   "cell_type": "code",
   "execution_count": null,
   "metadata": {},
   "outputs": [],
   "source": []
  },
  {
   "cell_type": "code",
   "execution_count": null,
   "metadata": {},
   "outputs": [],
   "source": []
  },
  {
   "cell_type": "code",
   "execution_count": null,
   "metadata": {},
   "outputs": [],
   "source": []
  },
  {
   "cell_type": "code",
   "execution_count": null,
   "metadata": {},
   "outputs": [],
   "source": []
  }
 ],
 "metadata": {
  "kernelspec": {
   "display_name": "Python 3",
   "language": "python",
   "name": "python3"
  },
  "language_info": {
   "codemirror_mode": {
    "name": "ipython",
    "version": 3
   },
   "file_extension": ".py",
   "mimetype": "text/x-python",
   "name": "python",
   "nbconvert_exporter": "python",
   "pygments_lexer": "ipython3",
   "version": "3.6.5"
  }
 },
 "nbformat": 4,
 "nbformat_minor": 2
}
